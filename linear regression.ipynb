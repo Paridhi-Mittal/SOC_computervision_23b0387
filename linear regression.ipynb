{
 "cells": [
  {
   "cell_type": "code",
   "execution_count": 7,
   "id": "3918de88-4027-4cce-9227-341e41f8ab3f",
   "metadata": {},
   "outputs": [
    {
     "name": "stdout",
     "output_type": "stream",
     "text": [
      "Epoch [1/100], Loss: 8596.9326\n",
      "Epoch [11/100], Loss: inf\n",
      "Epoch [21/100], Loss: nan\n",
      "Epoch [31/100], Loss: nan\n",
      "Epoch [41/100], Loss: nan\n",
      "Epoch [51/100], Loss: nan\n",
      "Epoch [61/100], Loss: nan\n",
      "Epoch [71/100], Loss: nan\n",
      "Epoch [81/100], Loss: nan\n",
      "Epoch [91/100], Loss: nan\n",
      "Weight: Parameter containing:\n",
      "tensor([[nan]], requires_grad=True), Bias: Parameter containing:\n",
      "tensor([nan], requires_grad=True)\n"
     ]
    }
   ],
   "source": [
    "import numpy as np\n",
    "import torch\n",
    "import torch.nn as nn\n",
    "import pandas as pd\n",
    "\n",
    "data = pd.read_csv(\"Linear Regression.csv\")\n",
    "data_X = data['X'].values.astype(np.float32)\n",
    "data_Y = data['Y'].values.astype(np.float32)\n",
    "X = torch.from_numpy(data_X).unsqueeze(1)  \n",
    "Y = torch.from_numpy(data_Y).unsqueeze(1) \n",
    "input_size = 1  \n",
    "output_size = 1 \n",
    "model = nn.Linear(input_size, output_size)\n",
    "loss = nn.MSELoss()\n",
    "learning_rate = 0.01\n",
    "optimizer = torch.optim.SGD(model.parameters(), lr=learning_rate)\n",
    "\n",
    "n_iters = 100\n",
    "for epoch in range(n_iters):\n",
    "    y_pred = model(X)\n",
    "    l = loss(y_pred, Y)\n",
    "    l.backward()\n",
    "    optimizer.step()\n",
    "    optimizer.zero_grad()\n",
    "    \n",
    "    if epoch % 10 == 0:\n",
    "        print(f'Epoch [{epoch+1}/{n_iters}], Loss: {l.item():.4f}')\n",
    "\n",
    "\n"
   ]
  },
  {
   "cell_type": "code",
   "execution_count": null,
   "id": "138f9f9e-cf59-4a3c-8ddc-6d986da66ca5",
   "metadata": {},
   "outputs": [],
   "source": []
  }
 ],
 "metadata": {
  "kernelspec": {
   "display_name": "Python 3 (ipykernel)",
   "language": "python",
   "name": "python3"
  },
  "language_info": {
   "codemirror_mode": {
    "name": "ipython",
    "version": 3
   },
   "file_extension": ".py",
   "mimetype": "text/x-python",
   "name": "python",
   "nbconvert_exporter": "python",
   "pygments_lexer": "ipython3",
   "version": "3.10.8"
  }
 },
 "nbformat": 4,
 "nbformat_minor": 5
}
